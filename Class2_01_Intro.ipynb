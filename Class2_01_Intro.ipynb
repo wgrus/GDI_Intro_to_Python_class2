{
 "cells": [
  {
   "cell_type": "markdown",
   "metadata": {},
   "source": [
    "Review From Class 1:\n",
    "====================\n",
    "\n",
    "1. Jupyter Notebook - combines Python Interpreter and shell in interactive environment\n",
    "\n",
    "2. Variables - take on the value and type assigned to them. Don't have quotes around them\n",
    "\n",
    "3. Numeric types - Integer (Int) and Float. Can be used for arithmetic\n",
    "\n",
    "4. String types - Designated by quotation marks. Can be 'added' and 'multiplied'\n",
    "\n",
    "5. Errors and Exceptions - Syntax errors - not run, Runtime errors - stop during a run, Semantic errors - run complete\n",
    "\n",
    "6. Functions - Perform a specified task. eg) print(), type(), int()\n",
    "\n",
    "Link to Reddit ['What's your favorite Python error message?'](https://www.reddit.com/r/Python/comments/4ivd2k/what_is_your_favorite_python_error_message/)\n",
    "\n",
    "Link to Github [Gallery of interesting iPython Notebooks](https://github.com/ipython/ipython/wiki/A-gallery-of-interesting-IPython-Notebooks)"
   ]
  },
  {
   "cell_type": "markdown",
   "metadata": {},
   "source": [
    "What we will cover in Class 2:\n",
    "==============================\n",
    "\n",
    "1. Booleans\n",
    "\n",
    "2. Conditionals and Loops\n",
    "\n",
    "3. Functions"
   ]
  },
  {
   "cell_type": "markdown",
   "metadata": {},
   "source": [
    "Remember the \"rules\"\n",
    "====================\n",
    "\n",
    "- We are here for you!\n",
    "\n",
    "- Every question is important\n",
    "\n",
    "- Help each other\n",
    "\n",
    "- Have fun"
   ]
  },
  {
   "cell_type": "markdown",
   "metadata": {},
   "source": [
    "Don't get discouraged!\n",
    "======================\n",
    "\n",
    "![title](img/try_fail.jpg)"
   ]
  }
 ],
 "metadata": {
  "kernelspec": {
   "display_name": "py35",
   "language": "python",
   "name": "py35"
  },
  "language_info": {
   "codemirror_mode": {
    "name": "ipython",
    "version": 3
   },
   "file_extension": ".py",
   "mimetype": "text/x-python",
   "name": "python",
   "nbconvert_exporter": "python",
   "pygments_lexer": "ipython3",
   "version": "3.5.1"
  }
 },
 "nbformat": 4,
 "nbformat_minor": 0
}
