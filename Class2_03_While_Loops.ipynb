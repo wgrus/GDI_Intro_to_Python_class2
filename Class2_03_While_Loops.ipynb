{
 "cells": [
  {
   "cell_type": "markdown",
   "metadata": {},
   "source": [
    "While loops:\n",
    "============\n",
    "\n",
    "The while statement takes a boolean expression, and as long as it evaluates to True, the code block beneath it is repeated.\n",
    "\n",
    "> x = 10\n",
    "\n",
    "> while x > 0:\n",
    "\n",
    ">     print(x)\n",
    "\n",
    ">     x = x - 1\n",
    "\n",
    "This creates a loop. Without the x = x - 1 statement, this would be an **infinite loop**\n"
   ]
  },
  {
   "cell_type": "code",
   "execution_count": null,
   "metadata": {
    "collapsed": true
   },
   "outputs": [],
   "source": []
  },
  {
   "cell_type": "markdown",
   "metadata": {},
   "source": [
    "Consider the following example that uses iteration to derive a factorial. A factorial of a number is equal to that number \\* every positive integer less than that number. E.g. The factorial of 4 is 4 \\* 3 \\* 2 \\* 1, which equals 24.\n",
    "\n",
    "> input_value = input('Enter a positive integer:')\n",
    "\n",
    "> n = int(input_value)\n",
    "\n",
    "> result = 1\n",
    "\n",
    "> while n > 1:\n",
    "\n",
    ">     result = result * n\n",
    "\n",
    ">     n = n - 1\n",
    "\n",
    "> print(\"The factorial of \" + input_value + \" is:\")\n",
    "\n",
    "> print(result)\n",
    "\n"
   ]
  },
  {
   "cell_type": "code",
   "execution_count": null,
   "metadata": {
    "collapsed": true
   },
   "outputs": [],
   "source": []
  },
  {
   "cell_type": "markdown",
   "metadata": {},
   "source": [
    "You need two things for your While loop:\n",
    "\n",
    "1. assign a value to the variable in the boolean expression.\n",
    "\n",
    "2. include a way to make the boolean expression False in the while loop.\n",
    "\n",
    "> number = 0\n",
    "\n",
    "> while number < 10:\n",
    "\n",
    ">     print('Wahoo!')\n",
    "\n",
    ">     number += 1"
   ]
  },
  {
   "cell_type": "code",
   "execution_count": null,
   "metadata": {
    "collapsed": true
   },
   "outputs": [],
   "source": []
  },
  {
   "cell_type": "markdown",
   "metadata": {},
   "source": [
    "> x = 5\n",
    "\n",
    "> while x > 0:\n",
    "\n",
    ">     if x > 1:\n",
    "\n",
    ">         print(x, 'little monkeys jumping on the bed.')\n",
    "\n",
    ">     else:\n",
    "\n",
    ">         print(x, 'little monkey jumping on the bed.')\n",
    "\n",
    ">     x = x - 1"
   ]
  },
  {
   "cell_type": "code",
   "execution_count": null,
   "metadata": {
    "collapsed": true
   },
   "outputs": [],
   "source": []
  },
  {
   "cell_type": "markdown",
   "metadata": {},
   "source": [
    "The entire while code block will execute one it has started. \n",
    "\n",
    "See what happens when we insert the line\n",
    "\n",
    "> x = 0\n",
    "\n",
    "in the while code block before the if statement."
   ]
  },
  {
   "cell_type": "markdown",
   "metadata": {},
   "source": [
    "Let's Develop It\n",
    "================\n",
    "\n",
    "Write a program that obtains user input like the last program\n",
    "\n",
    "However, this program should not exit until the user types \"quit\".\n",
    "\n",
    "Hint: A loop should help you\n"
   ]
  },
  {
   "cell_type": "code",
   "execution_count": null,
   "metadata": {
    "collapsed": true
   },
   "outputs": [],
   "source": []
  }
 ],
 "metadata": {
  "kernelspec": {
   "display_name": "py35",
   "language": "python",
   "name": "py35"
  },
  "language_info": {
   "codemirror_mode": {
    "name": "ipython",
    "version": 3
   },
   "file_extension": ".py",
   "mimetype": "text/x-python",
   "name": "python",
   "nbconvert_exporter": "python",
   "pygments_lexer": "ipython3",
   "version": "3.5.1"
  }
 },
 "nbformat": 4,
 "nbformat_minor": 0
}
