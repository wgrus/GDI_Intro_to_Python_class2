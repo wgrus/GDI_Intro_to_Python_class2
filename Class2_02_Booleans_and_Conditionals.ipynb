{
 "cells": [
  {
   "cell_type": "markdown",
   "metadata": {},
   "source": [
    "Booleans and Conditionals\n",
    "=================================\n",
    "\n",
    "**Boolean** variables have a True or False value.\n",
    "\n",
    "> x = False\n",
    "\n",
    "> type(x)"
   ]
  },
  {
   "cell_type": "code",
   "execution_count": null,
   "metadata": {
    "collapsed": false
   },
   "outputs": [],
   "source": []
  },
  {
   "cell_type": "markdown",
   "metadata": {},
   "source": [
    "**Boolean** statements can be evaluated as True or False.\n",
    "\n",
    "To test for equality, we use == \n",
    "\n",
    "We can't use = because that is used for assignment\n",
    "\n",
    "To test for inequality, we use !=\n",
    "\n",
    "To test comparatively, we use > , < , >=, <=\n",
    "\n",
    ">x = 5\n",
    "\n",
    ">y = 5\n",
    "\n",
    ">print(x == y)"
   ]
  },
  {
   "cell_type": "code",
   "execution_count": null,
   "metadata": {
    "collapsed": true
   },
   "outputs": [],
   "source": []
  },
  {
   "cell_type": "markdown",
   "metadata": {},
   "source": [
    "> z = x == y\n",
    "\n",
    "> print(z)"
   ]
  },
  {
   "cell_type": "code",
   "execution_count": null,
   "metadata": {
    "collapsed": true
   },
   "outputs": [],
   "source": []
  },
  {
   "cell_type": "markdown",
   "metadata": {},
   "source": [
    "> print(3 < 5)"
   ]
  },
  {
   "cell_type": "code",
   "execution_count": null,
   "metadata": {
    "collapsed": true
   },
   "outputs": [],
   "source": []
  },
  {
   "cell_type": "markdown",
   "metadata": {},
   "source": [
    "**Boolean** Operators:\n",
    "\n",
    "a == b a is equal to b \n",
    "\n",
    "a != b a does not equal b \n",
    "\n",
    "a < b a is less than b \n",
    "\n",
    "a > b a is greater than b \n",
    "\n",
    "a <= b a is less than or equal to b \n",
    "\n",
    "a >= b a is greater than or equal to b \n",
    "\n",
    "> a = 4\n",
    "\n",
    "> b = 5\n",
    "\n",
    "> print(a != b)\n",
    "\n",
    "> print(a <= 3)\n",
    "\n",
    "> print(a >= 4)\n"
   ]
  },
  {
   "cell_type": "code",
   "execution_count": null,
   "metadata": {
    "collapsed": true
   },
   "outputs": [],
   "source": []
  },
  {
   "cell_type": "markdown",
   "metadata": {},
   "source": [
    "Booleans allow us to write programs where we can tell the computer what to do in specific situations. Two ways to do that are with **conditionals** and **while** loops.\n",
    "\n",
    "Conditionals\n",
    "============\n",
    "\n",
    "Conditionals allow us to execute code in certain conditions. These start with **if** statements.\n",
    "\n",
    "> x = 5\n",
    "\n",
    "> if x == 5:\n",
    "    \n",
    ">     print('x is equal to 5')\n",
    "\n",
    "There is a four-space indent for the code executed when the if statement is true.\n"
   ]
  },
  {
   "cell_type": "code",
   "execution_count": null,
   "metadata": {
    "collapsed": true
   },
   "outputs": [],
   "source": []
  },
  {
   "cell_type": "markdown",
   "metadata": {},
   "source": [
    "Sometimes you want to execute one piece of code when the statement is true and a different piece of code when the statement is false. We can accomplish this by chaining an **else** onto the end of the if.\n",
    "\n",
    "> if x == 5:\n",
    "\n",
    ">     print('x is equal to 5')\n",
    "\n",
    "> else:\n",
    "    \n",
    ">     print('x is not equal to 5')\n",
    "\n",
    "Of note, the if and else lines end in a colon.\n",
    "\n",
    "The executed code is indented.\n",
    "\n",
    "The else line does not include a boolean statement."
   ]
  },
  {
   "cell_type": "code",
   "execution_count": null,
   "metadata": {
    "collapsed": true
   },
   "outputs": [],
   "source": []
  },
  {
   "cell_type": "markdown",
   "metadata": {},
   "source": [
    "You can use any kind of variables in the boolean expressions.\n",
    "\n",
    "> color = 'red'\n",
    "\n",
    "> if color == 'red':\n",
    "\n",
    ">     print('You should not wear hot pink shoes with that', color, 'dress.')"
   ]
  },
  {
   "cell_type": "code",
   "execution_count": null,
   "metadata": {
    "collapsed": true
   },
   "outputs": [],
   "source": []
  },
  {
   "cell_type": "markdown",
   "metadata": {},
   "source": [
    "Chained conditionals use **elif** as an additonal check after the preceeding if's boolean expression was False. \n",
    "\n",
    "> if x > 5:\n",
    "\n",
    ">     print('x is greater than 5')\n",
    "\n",
    "> elif x < 5:\n",
    "\n",
    ">     print('x is less than 5')\n",
    "\n",
    "> else:\n",
    "\n",
    ">     print('x is equal to 5')"
   ]
  },
  {
   "cell_type": "code",
   "execution_count": null,
   "metadata": {
    "collapsed": true
   },
   "outputs": [],
   "source": []
  },
  {
   "cell_type": "markdown",
   "metadata": {},
   "source": [
    "> color = 'black'\n",
    "\n",
    "> if color == 'red':\n",
    "\n",
    ">     print('You should not wear hot pink shoes with that', color, 'dress.')\n",
    "\n",
    "> elif color == 'yellow':\n",
    "\n",
    ">     print('You might be able to wear hot pink shoes with your', color, 'dress.')\n",
    "\n",
    "> else:\n",
    "\n",
    ">     print('Wear the hot pink shoes with your', color, 'dress!')\n",
    "\n",
    "**Note** The if, elif, and else statements must align vertically so that they are all executed together. The elif statements also require a boolean statement. Multiple elif statements can be chained together."
   ]
  },
  {
   "cell_type": "code",
   "execution_count": null,
   "metadata": {
    "collapsed": true
   },
   "outputs": [],
   "source": []
  },
  {
   "cell_type": "markdown",
   "metadata": {},
   "source": [
    "**Truth Value Testing** is how Python evaluates non-boolean variables in conditionals. Learn more about [Python Truth Value Testing](https://docs.python.org/3/library/stdtypes.html#truth-value-testing) on the Python 3 documentation.\n",
    "\n",
    "> string = 'Purple'\n",
    "                \n",
    "> if string:\n",
    "\n",
    ">     print('I am a tree.')\n",
    "\n",
    "> else:\n",
    "\n",
    ">     print('I am a walrus.')\n"
   ]
  },
  {
   "cell_type": "code",
   "execution_count": null,
   "metadata": {
    "collapsed": true
   },
   "outputs": [],
   "source": []
  },
  {
   "cell_type": "markdown",
   "metadata": {},
   "source": [
    "These if/else statements are the first examples we have seen of **code blocks**. Code blocks begin when text is indented and end when it returns to the previous indentation\n",
    "\n",
    "> x = 3\n",
    "\n",
    "> if x == 5:\n",
    "\n",
    ">     print('x is equal to 5')\n",
    "\n",
    ">     x_is_5 = True\n",
    "\n",
    ">     print('Still in the x == 5 block')\n",
    "\n",
    "> else:\n",
    "\n",
    ">     print('x is not equal to 5')\n",
    "\n",
    ">     x_is_5 = False\n",
    "\n",
    ">     print('Still in the else block of x == 5')\n",
    "\n",
    "> print('Outside of the if or else blocks.')\n",
    "\n",
    "> print('x_is_5:')\n",
    "\n",
    "> print(x_is_5)"
   ]
  },
  {
   "cell_type": "code",
   "execution_count": null,
   "metadata": {
    "collapsed": true
   },
   "outputs": [],
   "source": []
  },
  {
   "cell_type": "markdown",
   "metadata": {},
   "source": [
    "Boolean expressions can be combined with logical expressions **and**, **or**, and **not**."
   ]
  },
  {
   "cell_type": "markdown",
   "metadata": {},
   "source": [
    "> x,y = (3,4)\n",
    "\n",
    "> if x != 0 and y != 0:\n",
    "\n",
    ">     print('The point x,y is not on the x or y axis')\n"
   ]
  },
  {
   "cell_type": "code",
   "execution_count": null,
   "metadata": {
    "collapsed": true
   },
   "outputs": [],
   "source": []
  },
  {
   "cell_type": "markdown",
   "metadata": {},
   "source": [
    "Add elifs and/or else statements to the above if statement to handle more cases as to where a point can land.\n",
    "\n",
    "We can use parentheses to enforce precedence. (No need to type this one.)\n",
    "\n",
    "if ball_right_x > paddle_left_x and (ball_top_y > paddle_bottom_y or ball_bottom_y < paddle_top_y):\n",
    "     \n",
    "     player_1_score += 1\n",
    "\n",
    "How could we use boolean variables to simplify the if statement?\n",
    "\n",
    "Conditionals can also be **nested** such that a new conditional is only evaluated in some circumstances. For nested conditionals, you have to make nested code blocks.\n",
    "\n",
    "> if x > 5:\n",
    "\n",
    ">     print('x is greater than 5')\n",
    "\n",
    ">     if x > 10:\n",
    "\n",
    ">         print('...it is also greater than 10')\n",
    "\n",
    ">     print('Done evaluating the x > 10 block')\n",
    "\n",
    "> print('Done evaluating the x > 5 block')\n"
   ]
  },
  {
   "cell_type": "code",
   "execution_count": null,
   "metadata": {
    "collapsed": true
   },
   "outputs": [],
   "source": []
  },
  {
   "cell_type": "markdown",
   "metadata": {},
   "source": [
    "Let's try something\n",
    "===================\n",
    "\n",
    "Write a program that uses if statements to determine what to do given some user input\n",
    "\n",
    "The code below is an example:\n",
    "\n",
    "> health = 100\n",
    "\n",
    "> print(\"A vicious warg is chasing you.\")\n",
    "\n",
    "> print(\"Options:\")\n",
    "\n",
    "> print(\"1 - Hide in the cave.\")\n",
    "\n",
    "> print(\"2 - Climb a tree.\")\n",
    "\n",
    "> input_value = input(\"Enter choice:\")\n",
    "\n",
    "> if input_value == '1':\n",
    "\n",
    ">     print('You hide in a cave.')\n",
    "\n",
    ">     print('The warg finds you and injures your leg with its claws')\n",
    "\n",
    ">     health = health - 10\n",
    "\n",
    "> elif input_value == '2':\n",
    "\n",
    ">     print('You climb a tree.')\n",
    "\n",
    ">     print('The warg eventually looses interest and wanders off')\n",
    "                    "
   ]
  },
  {
   "cell_type": "code",
   "execution_count": null,
   "metadata": {
    "collapsed": true
   },
   "outputs": [],
   "source": []
  }
 ],
 "metadata": {
  "kernelspec": {
   "display_name": "py35",
   "language": "python",
   "name": "py35"
  },
  "language_info": {
   "codemirror_mode": {
    "name": "ipython",
    "version": 3
   },
   "file_extension": ".py",
   "mimetype": "text/x-python",
   "name": "python",
   "nbconvert_exporter": "python",
   "pygments_lexer": "ipython3",
   "version": "3.5.1"
  }
 },
 "nbformat": 4,
 "nbformat_minor": 0
}
