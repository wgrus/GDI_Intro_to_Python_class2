{
 "cells": [
  {
   "cell_type": "markdown",
   "metadata": {},
   "source": [
    "Functions\n",
    "=========\n",
    "\n",
    "Functions, also known as \"procedures\", are named units of code that perform a specific task. They can have inputs and outputs.\n",
    "\n",
    "![title](img/function.png)\n",
    "\n",
    "We would say \"We are calling f on x\" or \"We are passing x to f\".\n",
    "\n",
    "![title](img/function2.png)\n",
    "\n",
    "When one uses a function, one makes a function call. We have already made a function call when using the print, type, int, or float functions.\n",
    "\n",
    "> a = '3'\n",
    "\n",
    "> print(type(a))\n",
    "\n",
    "> a = float(a)\n"
   ]
  },
  {
   "cell_type": "code",
   "execution_count": null,
   "metadata": {
    "collapsed": true
   },
   "outputs": [],
   "source": []
  },
  {
   "cell_type": "markdown",
   "metadata": {},
   "source": [
    "Where to get functions to use in our code:\n",
    "==========================================\n",
    "\n",
    "1. [Builtin functions](https://docs.python.org/3/library/functions.html), like print(), type()\n",
    "\n",
    "2. Define our own functions\n",
    "\n",
    "3. Import functions from other libraries/modules/packages - [PyPI](https://pypi.python.org/pypi) or [Python Standard Library](https://docs.python.org/3/library/)\n",
    "\n",
    "Function Definitions\n",
    "====================\n",
    "\n",
    "The function definition has the following parts:\n",
    "\n",
    "- The def keyword signifies we are defining a function\n",
    "\n",
    "- The name of the function being defined\n",
    "\n",
    "- The arguments in parentheses\n",
    "\n",
    "- The function body, which is a block of indented code that executes when the function is called. \n",
    "\n",
    "For example:\n",
    "\n",
    "> def print_plus_5(x):\n",
    "\n",
    ">     print(x + 5)\n",
    "\n",
    "\n",
    "\n"
   ]
  },
  {
   "cell_type": "code",
   "execution_count": null,
   "metadata": {
    "collapsed": true
   },
   "outputs": [],
   "source": []
  },
  {
   "cell_type": "markdown",
   "metadata": {},
   "source": [
    "print_plus_5() does not have any outputs that can be used outside of the function. To return one or more values from a function, we use **return**.\n",
    "\n",
    "Let's define plus_5()\n",
    "\n",
    "> def plus_5(x):\n",
    "\n",
    ">     return x + 5\n",
    "\n",
    "Now let's set y equal to plus_5(4)\n",
    "\n",
    "> y = plus_5(4)\n"
   ]
  },
  {
   "cell_type": "code",
   "execution_count": null,
   "metadata": {
    "collapsed": true
   },
   "outputs": [],
   "source": []
  },
  {
   "cell_type": "code",
   "execution_count": null,
   "metadata": {
    "collapsed": true
   },
   "outputs": [],
   "source": []
  },
  {
   "cell_type": "markdown",
   "metadata": {},
   "source": [
    "Functions do not have to have input parameters or outputs.\n",
    "\n",
    "Let's define the function newline()\n",
    "\n",
    "> def newline():\n",
    "\n",
    ">     print('')\n",
    "\n",
    "Now, let's use newline()\n",
    "\n",
    "> print('The sky is blue')\n",
    "\n",
    "> newline()\n",
    "\n",
    "> print('So are violets.')\n"
   ]
  },
  {
   "cell_type": "code",
   "execution_count": null,
   "metadata": {
    "collapsed": true
   },
   "outputs": [],
   "source": []
  },
  {
   "cell_type": "markdown",
   "metadata": {},
   "source": [
    "A function can also take more than one argument separated by commas.\n",
    "\n",
    "Let's define find_rectangle_area().\n",
    "\n",
    "> def find_rectangle_area(width, height):\n",
    "\n",
    ">     return width * height\n",
    "\n",
    "Now we can call find_rectangle_area for width = 3 and height = 4\n",
    "\n",
    "> area = find_rectangle_area(3, 4)\n",
    "\n",
    "> print(area)\n",
    "\n"
   ]
  },
  {
   "cell_type": "code",
   "execution_count": null,
   "metadata": {
    "collapsed": true
   },
   "outputs": [],
   "source": []
  },
  {
   "cell_type": "code",
   "execution_count": null,
   "metadata": {
    "collapsed": true
   },
   "outputs": [],
   "source": []
  },
  {
   "cell_type": "markdown",
   "metadata": {},
   "source": [
    "The scope of a variable is the area of code in which a variable is still valid and can be used.\n",
    "\n",
    "Variables defined within a function can not be used elsewhere.\n",
    "\n",
    "Let's define get_triangle_area()\n",
    "\n",
    "> def get_triangle_area(base, height):\n",
    "\n",
    ">     rect_area = base * height\n",
    "\n",
    ">     return rect_area / 2.0\n",
    "\n",
    "Now let's call it with base = 10 and height = 20\n",
    "\n",
    "> triangle_area = get_triangle_area(10, 20)\n",
    "\n",
    "> print(triangle_area)\n",
    "\n",
    "What happens when we refer to variables only defined within the function definition?\n",
    "\n",
    "> print(base)\n",
    "\n",
    "> print(rect_area)\n",
    "\n"
   ]
  },
  {
   "cell_type": "code",
   "execution_count": null,
   "metadata": {
    "collapsed": true
   },
   "outputs": [],
   "source": []
  },
  {
   "cell_type": "code",
   "execution_count": null,
   "metadata": {
    "collapsed": true
   },
   "outputs": [],
   "source": []
  },
  {
   "cell_type": "markdown",
   "metadata": {},
   "source": [
    "Let's Develop It\n",
    "================\n",
    "\n",
    "We learned the boolean operators > and <. Write a function is_between() that returns True if a number is between two values and False otherwise."
   ]
  },
  {
   "cell_type": "code",
   "execution_count": null,
   "metadata": {
    "collapsed": true
   },
   "outputs": [],
   "source": []
  },
  {
   "cell_type": "markdown",
   "metadata": {},
   "source": [
    "Let's Develop It\n",
    "================\n",
    "\n",
    "Write a program that asks the user to guess a number between a given range, such as 1 to 10\n",
    "\n",
    "The program should give the user hints such as \"too high\" or \"too low\". Alternatively, the hints might be \"warm\" or \"cold\" depending on how close they are to the number\n",
    "\n",
    "The computer will need to have a random number for the user to guess\n",
    "\n",
    "> from random import randint\n",
    "\n",
    "> random_number = randint(1, 10)\n",
    "\n"
   ]
  },
  {
   "cell_type": "code",
   "execution_count": null,
   "metadata": {
    "collapsed": true
   },
   "outputs": [],
   "source": []
  },
  {
   "cell_type": "code",
   "execution_count": null,
   "metadata": {
    "collapsed": true
   },
   "outputs": [],
   "source": []
  }
 ],
 "metadata": {
  "kernelspec": {
   "display_name": "py35",
   "language": "python",
   "name": "py35"
  },
  "language_info": {
   "codemirror_mode": {
    "name": "ipython",
    "version": 3
   },
   "file_extension": ".py",
   "mimetype": "text/x-python",
   "name": "python",
   "nbconvert_exporter": "python",
   "pygments_lexer": "ipython3",
   "version": "3.5.1"
  }
 },
 "nbformat": 4,
 "nbformat_minor": 0
}
